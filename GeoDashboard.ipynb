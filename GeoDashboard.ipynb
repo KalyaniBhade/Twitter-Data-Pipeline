{
 "cells": [
  {
   "cell_type": "code",
   "execution_count": null,
   "metadata": {},
   "outputs": [],
   "source": [
    "from bokeh.models import HoverTool\n",
    "from geoviews import opts, dim\n",
    "import pandas as pd\n",
    "import geoviews.tile_sources as gvts\n",
    "import geoviews as gv\n",
    "import param\n",
    "import pandas as pd\n",
    "gv.extension('bokeh')"
   ]
  },
  {
   "cell_type": "code",
   "execution_count": null,
   "metadata": {},
   "outputs": [],
   "source": [
    "if __name__==\"__main__\":\n",
    "    \n",
    "    data = pd.read_csv('dashboard_data/country_tokens.csv')\n",
    "\n",
    "    country_gv_points = gv.Points(\n",
    "        data, ['Longitude', 'Latitude'], ['Country', 'Tokens'])\n",
    "\n",
    "    tooltips = [('Country', '@Country'), ('Trending words', '@Tokens')]\n",
    "    hover = HoverTool(tooltips=tooltips)\n",
    "    \n",
    "    \n",
    "    map = (gvts.CartoMidnight * country_gv_points).opts(\n",
    "        opts.Points(width=1200, height=700, alpha=0.3,\n",
    "                    color=dim('color'), hover_line_color='black',\n",
    "                    line_color='black', xaxis=None, yaxis=None,\n",
    "                    tools=[hover], size=20, hover_fill_alpha=0.5))"
   ]
  },
  {
   "cell_type": "code",
   "execution_count": null,
   "metadata": {},
   "outputs": [],
   "source": [
    "map"
   ]
  }
 ],
 "metadata": {
  "kernelspec": {
   "display_name": "Python 3 (ipykernel)",
   "language": "python",
   "name": "python3"
  },
  "language_info": {
   "codemirror_mode": {
    "name": "ipython",
    "version": 3
   },
   "file_extension": ".py",
   "mimetype": "text/x-python",
   "name": "python",
   "nbconvert_exporter": "python",
   "pygments_lexer": "ipython3",
   "version": "3.9.12"
  }
 },
 "nbformat": 4,
 "nbformat_minor": 4
}
