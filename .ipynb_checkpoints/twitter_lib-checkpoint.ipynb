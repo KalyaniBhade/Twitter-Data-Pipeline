{
 "cells": [
  {
   "cell_type": "code",
   "execution_count": 1,
   "metadata": {},
   "outputs": [],
   "source": [
    "import database_lib.postgre_lib as pg\n",
    "import processing_lib.util\n",
    "import os\n",
    "import requests"
   ]
  },
  {
   "cell_type": "code",
   "execution_count": 2,
   "metadata": {},
   "outputs": [],
   "source": [
    "#Get information about the environment variable for API bearer token\n",
    "def auth():\n",
    "    return os.getenv('BEARER_TOKEN')"
   ]
  },
  {
   "cell_type": "code",
   "execution_count": 3,
   "metadata": {},
   "outputs": [],
   "source": [
    "def create_headers(bearer_token):\n",
    "    headers = {\"Authorization\": \"Bearer {}\".format(bearer_token)}\n",
    "    return headers"
   ]
  },
  {
   "cell_type": "code",
   "execution_count": 4,
   "metadata": {},
   "outputs": [],
   "source": [
    "def create_url(keyword, max_results):\n",
    "    \n",
    "    #Change to the endpoint you want to collect data from\n",
    "    search_url = \"https://api.twitter.com/2/tweets/search/recent\" \n",
    "\n",
    "    #Change params based on the endpoint being used\n",
    "    query_params = {'query': keyword,\n",
    "                    'max_results': max_results,\n",
    "                    'tweet.fields': 'created_at',\n",
    "                    'expansions': 'author_id'\n",
    "                    }\n",
    "    return (search_url, query_params)"
   ]
  },
  {
   "cell_type": "code",
   "execution_count": 5,
   "metadata": {},
   "outputs": [],
   "source": [
    "def connect_to_endpoint(url, headers, params, next_token = None):\n",
    "    params['next_token'] = next_token   #params object received from create_url function\n",
    "    response = requests.request(\"GET\", url, headers = headers, params = params)\n",
    "    if response.status_code != 200:\n",
    "        raise Exception(response.status_code, response.text)\n",
    "    return response.json()"
   ]
  },
  {
   "cell_type": "code",
   "execution_count": 6,
   "metadata": {},
   "outputs": [],
   "source": [
    "def get_recent_tweets(keyword):\n",
    "    bearer_token = auth()\n",
    "    headers = create_headers(bearer_token)\n",
    "    max_results = 10\n",
    "    url = create_url(keyword, max_results)\n",
    "    json_response = connect_to_endpoint(url[0], headers, url[1])\n",
    "    return json_response"
   ]
  },
  {
   "cell_type": "code",
   "execution_count": 7,
   "metadata": {},
   "outputs": [],
   "source": [
    "def get_processed_tweets():\n",
    "    response_data = []\n",
    "    operators = \"has:hashtags -is:retweet lang:en\"\n",
    "    conn, cursor = pg.connect_to_postgre()\n",
    "    countries = pg.get_records(cursor = cursor, table_name = \"countries\", columns = \"country_name\")\n",
    "    n = len(countries)\n",
    "    for i in range(40):\n",
    "        country = countries[i%n][0]\n",
    "        keyword = country + \" \" + operators\n",
    "        json_response = get_recent_tweets(keyword)\n",
    "        json_response = util.augment_country(json_response, country)\n",
    "        response_data.extend(json_response['data'])\n",
    "    return response_data"
   ]
  },
  {
   "cell_type": "code",
   "execution_count": 8,
   "metadata": {},
   "outputs": [
    {
     "name": "stderr",
     "output_type": "stream",
     "text": [
      "[NbConvertApp] Converting notebook twitter_lib.ipynb to script\n",
      "[NbConvertApp] Writing 2188 bytes to twitter_lib.py\n"
     ]
    }
   ],
   "source": [
    "!jupyter nbconvert --to script twitter_lib.ipynb"
   ]
  }
 ],
 "metadata": {
  "kernelspec": {
   "display_name": "Python 3",
   "language": "python",
   "name": "python3"
  },
  "language_info": {
   "codemirror_mode": {
    "name": "ipython",
    "version": 3
   },
   "file_extension": ".py",
   "mimetype": "text/x-python",
   "name": "python",
   "nbconvert_exporter": "python",
   "pygments_lexer": "ipython3",
   "version": "3.7.6"
  }
 },
 "nbformat": 4,
 "nbformat_minor": 4
}
