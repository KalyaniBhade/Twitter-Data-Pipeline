{
 "cells": [
  {
   "cell_type": "code",
   "execution_count": 1,
   "metadata": {},
   "outputs": [],
   "source": [
    "from pymongo import MongoClient\n",
    "from dotenv import load_dotenv\n",
    "import os"
   ]
  },
  {
   "cell_type": "code",
   "execution_count": 2,
   "metadata": {},
   "outputs": [],
   "source": [
    "def connect_mongoDB():\n",
    "    load_dotenv()\n",
    "    mongo_url = os.environ.get('MONGO_URL')\n",
    "    try:\n",
    "        client = MongoClient(mongo_url)\n",
    "        print(\"Connected to MongoDB Atlas successfully!\")\n",
    "        return client\n",
    "    except:  \n",
    "        print(\"Could not connect to MongoDB\")       "
   ]
  },
  {
   "cell_type": "code",
   "execution_count": 3,
   "metadata": {},
   "outputs": [],
   "source": [
    "def insert_data(db, data):\n",
    "    db.token_counts.insert_many(data, ordered = False)\n",
    "    print('Data inserted successfully')"
   ]
  },
  {
   "cell_type": "code",
   "execution_count": 4,
   "metadata": {},
   "outputs": [],
   "source": [
    "def fetch_data(db, condition = {}):\n",
    "    return db.token_counts.find(condition)"
   ]
  },
  {
   "cell_type": "code",
   "execution_count": 5,
   "metadata": {},
   "outputs": [
    {
     "name": "stderr",
     "output_type": "stream",
     "text": [
      "[NbConvertApp] Converting notebook mongoDB_lib.ipynb to script\n",
      "[NbConvertApp] Writing 694 bytes to mongoDB_lib.py\n"
     ]
    }
   ],
   "source": [
    "!jupyter nbconvert --to script mongoDB_lib.ipynb"
   ]
  }
 ],
 "metadata": {
  "kernelspec": {
   "display_name": "Python 3",
   "language": "python",
   "name": "python3"
  },
  "language_info": {
   "codemirror_mode": {
    "name": "ipython",
    "version": 3
   },
   "file_extension": ".py",
   "mimetype": "text/x-python",
   "name": "python",
   "nbconvert_exporter": "python",
   "pygments_lexer": "ipython3",
   "version": "3.7.6"
  }
 },
 "nbformat": 4,
 "nbformat_minor": 4
}
