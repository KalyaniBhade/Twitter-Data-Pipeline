{
 "cells": [
  {
   "cell_type": "code",
   "execution_count": 1,
   "metadata": {},
   "outputs": [],
   "source": [
    "import processing_lib.util as util\n",
    "import processing_lib.spark_lib as sp\n",
    "import database_lib.postgre_lib as pg\n",
    "import database_lib.mongoDB_lib as mdb\n",
    "from datetime import datetime, timedelta"
   ]
  },
  {
   "cell_type": "code",
   "execution_count": 2,
   "metadata": {},
   "outputs": [],
   "source": [
    "#get data from postgre for tokenization and run spark\n",
    "conn, cursor = pg.connect_to_postgre()\n",
    "current_date = str(datetime.today() - timedelta(days = 1))\n",
    "condition = \"tweet_date >= to_date('\" + current_date + \"', 'YYYY-MM-DD')\"\n",
    "records = pg.get_records(cursor = cursor, table_name = \"tweets\", columns = \"*\", condition =  condition)"
   ]
  },
  {
   "cell_type": "code",
   "execution_count": 3,
   "metadata": {},
   "outputs": [
    {
     "name": "stderr",
     "output_type": "stream",
     "text": [
      "C:\\Spark\\spark-3.2.1-bin-hadoop3.2\\python\\pyspark\\sql\\context.py:79: FutureWarning: Deprecated in 3.0.0. Use SparkSession.builder.getOrCreate() instead.\n",
      "  FutureWarning\n"
     ]
    }
   ],
   "source": [
    "sc, sqlContext = sp.create_spark_instance()\n",
    "\n",
    "tuples = sp.get_token_counts_by_country(sc, records)\n",
    "token_counts_by_country = util.format_tokens_per_country(tuples)\n",
    "\n",
    "sc.stop()"
   ]
  },
  {
   "cell_type": "code",
   "execution_count": 4,
   "metadata": {},
   "outputs": [
    {
     "name": "stdout",
     "output_type": "stream",
     "text": [
      "Connected to MongoDB Atlas successfully!\n",
      "Records inserted in MongoDB successfully\n"
     ]
    }
   ],
   "source": [
    "#load words into mongo\n",
    "client = mdb.connect_mongoDB()\n",
    "db = client.TwitterAPI\n",
    "mdb.insert_data(db, token_counts_by_country)"
   ]
  },
  {
   "cell_type": "code",
   "execution_count": null,
   "metadata": {},
   "outputs": [],
   "source": [
    "!jupyter nbconvert --to script TransformLoadTokens.ipynb"
   ]
  }
 ],
 "metadata": {
  "kernelspec": {
   "display_name": "Python 3",
   "language": "python",
   "name": "python3"
  },
  "language_info": {
   "codemirror_mode": {
    "name": "ipython",
    "version": 3
   },
   "file_extension": ".py",
   "mimetype": "text/x-python",
   "name": "python",
   "nbconvert_exporter": "python",
   "pygments_lexer": "ipython3",
   "version": "3.7.6"
  }
 },
 "nbformat": 4,
 "nbformat_minor": 4
}
