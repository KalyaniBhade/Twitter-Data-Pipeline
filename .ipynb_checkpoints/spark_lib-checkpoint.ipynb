{
 "cells": [
  {
   "cell_type": "code",
   "execution_count": 1,
   "metadata": {},
   "outputs": [],
   "source": [
    "from pyspark import SparkContext\n",
    "import pandas as pd\n",
    "import findspark\n",
    "findspark.init()\n",
    "import datetime\n",
    "findspark.find()\n",
    "import processing_lib.util"
   ]
  },
  {
   "cell_type": "code",
   "execution_count": 2,
   "metadata": {},
   "outputs": [],
   "source": [
    "def create_spark_instance():\n",
    "    sc = SparkContext()\n",
    "    sqlContext = SQLContext(sc)\n",
    "    return sc, sqlContext"
   ]
  },
  {
   "cell_type": "code",
   "execution_count": 3,
   "metadata": {},
   "outputs": [],
   "source": [
    "def df_to_rdd(df, sqlContext):\n",
    "    tweets_rdd = sqlContext.createDataFrame(df).rdd\n",
    "    return tweets_rdd"
   ]
  },
  {
   "cell_type": "code",
   "execution_count": 4,
   "metadata": {},
   "outputs": [],
   "source": [
    "def get_tweet_tuples(tweets_rdd):\n",
    "    tweet_tuples = tweets_rdd.map(lambda x: (x[0], x[1], util.process_text(x[2]), util.get_date(x[3]), x[4])).collect()\n",
    "    tweet_tuples = tuple(tweet_tuples)\n",
    "    return tweet_tuples"
   ]
  },
  {
   "cell_type": "code",
   "execution_count": 5,
   "metadata": {},
   "outputs": [],
   "source": [
    "def get_token_counts_by_country(sc, records):\n",
    "    rdd = sc.parallelize(records)\n",
    "    country_date_word_counts_rdd = rdd.map(lambda x: ((x[4], util.get_date(x[3])), list(util.get_tokens(x[4],x[2])))).flatMapValues(lambda x: x)\\\n",
    "          .map(lambda x: ((x[0][0], x[0][1], x[1]), 1)).reduceByKey(lambda x, y: x + y).filter(lambda x: x[1] > 1).cache()\n",
    "    sorted_word_counts_rdd = country_date_word_counts_rdd.map(lambda x: ((x[0][0], x[0][1]), (x[0][2], x[1])))\\\n",
    "                        .groupByKey().mapValues(list).map(lambda x: (x[0], util.get_sorted_token_list(x[1])))\n",
    "    tuples = sorted_word_counts_rdd.collect()\n",
    "    return tuples"
   ]
  },
  {
   "cell_type": "code",
   "execution_count": 6,
   "metadata": {},
   "outputs": [],
   "source": [
    "def get_consolidated_tokens(sc, data):\n",
    "    tokens_rdd = sc.parallelize(data)\n",
    "    combined_tokens_rdd = tokens_rdd.reduceByKey(lambda x, y: x + y).sortBy(lambda x: -x[1]).map(lambda x: x[0])\n",
    "    return combined_tokens_rdd.collect()[:10]"
   ]
  },
  {
   "cell_type": "code",
   "execution_count": 7,
   "metadata": {},
   "outputs": [
    {
     "name": "stderr",
     "output_type": "stream",
     "text": [
      "[NbConvertApp] Converting notebook spark_lib.ipynb to script\n",
      "[NbConvertApp] Writing 1756 bytes to spark_lib.py\n"
     ]
    }
   ],
   "source": [
    "!jupyter nbconvert --to script spark_lib.ipynb"
   ]
  }
 ],
 "metadata": {
  "kernelspec": {
   "display_name": "Python 3",
   "language": "python",
   "name": "python3"
  },
  "language_info": {
   "codemirror_mode": {
    "name": "ipython",
    "version": 3
   },
   "file_extension": ".py",
   "mimetype": "text/x-python",
   "name": "python",
   "nbconvert_exporter": "python",
   "pygments_lexer": "ipython3",
   "version": "3.7.6"
  }
 },
 "nbformat": 4,
 "nbformat_minor": 4
}
