{
 "cells": [
  {
   "cell_type": "code",
   "execution_count": 1,
   "metadata": {},
   "outputs": [
    {
     "name": "stderr",
     "output_type": "stream",
     "text": [
      "[NbConvertApp] Converting notebook postgre_lib.ipynb to script\n",
      "[NbConvertApp] Writing 4067 bytes to postgre_lib.py\n"
     ]
    }
   ],
   "source": [
    "import postgre_lib as pg\n",
    "import util"
   ]
  },
  {
   "cell_type": "code",
   "execution_count": 2,
   "metadata": {},
   "outputs": [],
   "source": [
    "country_tuples = tuple(util.get_country_data('countries.csv'))"
   ]
  },
  {
   "cell_type": "code",
   "execution_count": 3,
   "metadata": {},
   "outputs": [
    {
     "data": {
      "text/plain": [
       "(('AF', 'Afghanistan', '33.93911', '67.709953'),\n",
       " ('AU', 'Australia', '-25.274398', '133.775136'),\n",
       " ('BD', 'Bangladesh', '23.684994', '90.356331'),\n",
       " ('BR', 'Brazil', '-14.235004', '-51.92528'),\n",
       " ('CA', 'Canada', '56.130366', '-106.346771'),\n",
       " ('CN', 'China', '35.86166', '104.195397'),\n",
       " ('CZ', 'CzechRepublic', '49.817492', '15.472962'),\n",
       " ('DE', 'Germany', '51.165691', '10.451526'),\n",
       " ('GB', 'UK', '55.378051', '-3.435973'),\n",
       " ('HK', 'HongKong', '22.396428', '114.109497'),\n",
       " ('ID', 'Indonesia', '-0.789275', '113.921327'),\n",
       " ('IL', 'Israel', '31.046051', '34.851612'),\n",
       " ('IN', 'India', '20.593684', '78.96288'),\n",
       " ('IQ', 'Iraq', '33.223191', '43.679291'),\n",
       " ('IR', 'Iran', '32.427908', '53.688046'),\n",
       " ('IS', 'Iceland', '64.963051', '-19.020835'),\n",
       " ('IT', 'Italy', '41.87194', '12.56738'),\n",
       " ('JP', 'Japan', '36.204824', '138.252924'),\n",
       " ('KP', 'NorthKorea', '40.339852', '127.510093'),\n",
       " ('KR', 'SouthKorea', '35.907757', '127.766922'),\n",
       " ('LK', 'SriLanka', '7.873054', '80.771797'),\n",
       " ('MX', 'Mexico', '23.634501', '-102.552784'),\n",
       " ('NL', 'Netherlands', '52.132633', '5.291266'),\n",
       " ('NZ', 'NewZealand', '-40.900557', '174.885971'),\n",
       " ('PK', 'Pakistan', '30.375321', '69.345116'),\n",
       " ('QA', 'Qatar', '25.354826', '51.183884'),\n",
       " ('RU', 'Russia', '61.52401', '105.318756'),\n",
       " ('SA', 'SaudiArabia', '23.885942', '45.079162'),\n",
       " ('SG', 'Singapore', '1.352083', '103.819836'),\n",
       " ('SY', 'Syria', '34.802075', '38.996815'),\n",
       " ('TH', 'Thailand', '15.870032', '100.992541'),\n",
       " ('TR', 'Turkey', '38.963745', '35.243322'),\n",
       " ('TW', 'Taiwan', '23.69781', '120.960515'),\n",
       " ('UA', 'Ukraine', '48.379433', '31.16558'),\n",
       " ('US', 'USA', '37.09024', '-95.712891'),\n",
       " ('VE', 'Venezuela', '6.42375', '-66.58973'),\n",
       " ('VN', 'Vietnam', '14.058324', '108.277199'),\n",
       " ('YE', 'Yemen', '15.552727', '48.516388'))"
      ]
     },
     "execution_count": 3,
     "metadata": {},
     "output_type": "execute_result"
    }
   ],
   "source": [
    "country_tuples"
   ]
  },
  {
   "cell_type": "code",
   "execution_count": 4,
   "metadata": {},
   "outputs": [
    {
     "name": "stdout",
     "output_type": "stream",
     "text": [
      "Tables dropped successfully\n",
      "Tables created successfully\n",
      "Records inserted successfully\n"
     ]
    }
   ],
   "source": [
    "conn, cursor = pg.connect_to_postgre()\n",
    "pg.drop_tables(cursor)\n",
    "pg.create_tables(cursor)\n",
    "pg.insert_records(cursor, \"countries\", country_tuples)"
   ]
  },
  {
   "cell_type": "code",
   "execution_count": 5,
   "metadata": {},
   "outputs": [
    {
     "name": "stderr",
     "output_type": "stream",
     "text": [
      "[NbConvertApp] Converting notebook initialization_script.ipynb to script\n",
      "[NbConvertApp] Writing 442 bytes to initialization_script.py\n"
     ]
    }
   ],
   "source": [
    "!jupyter nbconvert --to script initialization_script.ipynb"
   ]
  }
 ],
 "metadata": {
  "kernelspec": {
   "display_name": "Python 3",
   "language": "python",
   "name": "python3"
  },
  "language_info": {
   "codemirror_mode": {
    "name": "ipython",
    "version": 3
   },
   "file_extension": ".py",
   "mimetype": "text/x-python",
   "name": "python",
   "nbconvert_exporter": "python",
   "pygments_lexer": "ipython3",
   "version": "3.7.6"
  }
 },
 "nbformat": 4,
 "nbformat_minor": 4
}
