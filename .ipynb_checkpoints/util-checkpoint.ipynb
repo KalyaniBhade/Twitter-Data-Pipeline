{
 "cells": [
  {
   "cell_type": "code",
   "execution_count": 1,
   "metadata": {},
   "outputs": [],
   "source": [
    "import pandas as pd\n",
    "import re\n",
    "import string\n",
    "import database_lib.postgre_lib as pg\n",
    "from nltk.corpus import stopwords\n",
    "from nltk.tokenize import word_tokenize\n",
    "from nltk.tokenize import RegexpTokenizer\n",
    "stop_words = set(stopwords.words('english'))"
   ]
  },
  {
   "cell_type": "code",
   "execution_count": 2,
   "metadata": {},
   "outputs": [],
   "source": [
    "def augment_country(json_response, country):\n",
    "    for data in json_response['data']:\n",
    "        data['country'] = country\n",
    "    return json_response"
   ]
  },
  {
   "cell_type": "code",
   "execution_count": 3,
   "metadata": {},
   "outputs": [],
   "source": [
    "def get_tweets_df(response_data):\n",
    "    df = pd.DataFrame(response_data)\n",
    "    df = df.reindex(columns = ['id', 'author_id', 'text', 'created_at', 'country'])\n",
    "    return df"
   ]
  },
  {
   "cell_type": "code",
   "execution_count": 4,
   "metadata": {},
   "outputs": [],
   "source": [
    "def get_date(utc_timestamp):\n",
    "    '''\n",
    "    date = 'to_date(\"' + utc_timestamp.split('T')[0] + '\", \"YYYY-MM-DD\")'\n",
    "    #print(date)\n",
    "    return date\n",
    "    '''\n",
    "    return utc_timestamp.split('T')[0]"
   ]
  },
  {
   "cell_type": "code",
   "execution_count": 5,
   "metadata": {},
   "outputs": [],
   "source": [
    "def process_text(text):\n",
    "    processed_text = re.sub(\"['\\\\$]\", \"\", text)\n",
    "    return processed_text"
   ]
  },
  {
   "cell_type": "code",
   "execution_count": 6,
   "metadata": {},
   "outputs": [],
   "source": [
    "def get_tokens(country, tweet):\n",
    "    tokens = tweet.split(\" \")\n",
    "    tokens = [word.lower() for word in tokens if (word.lower() not in stop_words and word!=country and word.isalpha())]\n",
    "    return tokens"
   ]
  },
  {
   "cell_type": "code",
   "execution_count": 7,
   "metadata": {},
   "outputs": [],
   "source": [
    "def get_date(date):\n",
    "    return str(date)"
   ]
  },
  {
   "cell_type": "code",
   "execution_count": 8,
   "metadata": {},
   "outputs": [],
   "source": [
    "def get_sorted_token_list(word_counts):\n",
    "    print(\"haha\")\n",
    "    return sorted(word_counts, key=lambda x: (-x[1], x[0]))"
   ]
  },
  {
   "cell_type": "code",
   "execution_count": 9,
   "metadata": {},
   "outputs": [],
   "source": [
    "def read_txt_file(filename):\n",
    "    file_content = []\n",
    "    with open(filename, \"r\") as file:\n",
    "        for f in file:\n",
    "            file_content.append(f.strip().split(','))\n",
    "    file.close()\n",
    "    return file_content"
   ]
  },
  {
   "cell_type": "code",
   "execution_count": 10,
   "metadata": {},
   "outputs": [],
   "source": [
    "def get_country_data(filename):\n",
    "    country_data = read_txt_file(filename)\n",
    "    #tupled_data = [(c[0], c[3], float(c[1].strip()), float(c[2].strip())) for c in country_data]\n",
    "    tupled_data = [(c[0], c[3], c[1].strip(), c[2].strip()) for c in country_data]\n",
    "    return tupled_data"
   ]
  },
  {
   "cell_type": "code",
   "execution_count": 11,
   "metadata": {},
   "outputs": [],
   "source": [
    "def format_tokens_per_country(tuples):\n",
    "    input_data = []\n",
    "    for t in tuples:\n",
    "        records = {}\n",
    "        records['country'] = t[0][0]\n",
    "        records['date'] = t[0][1]\n",
    "        records['tokens'] = t[1]\n",
    "        input_data.append(records)\n",
    "    return input_data"
   ]
  },
  {
   "cell_type": "code",
   "execution_count": 12,
   "metadata": {},
   "outputs": [
    {
     "name": "stderr",
     "output_type": "stream",
     "text": [
      "[NbConvertApp] Converting notebook util.ipynb to script\n",
      "[NbConvertApp] Writing 2210 bytes to util.py\n"
     ]
    }
   ],
   "source": [
    "!jupyter nbconvert --to script util.ipynb"
   ]
  }
 ],
 "metadata": {
  "kernelspec": {
   "display_name": "Python 3",
   "language": "python",
   "name": "python3"
  },
  "language_info": {
   "codemirror_mode": {
    "name": "ipython",
    "version": 3
   },
   "file_extension": ".py",
   "mimetype": "text/x-python",
   "name": "python",
   "nbconvert_exporter": "python",
   "pygments_lexer": "ipython3",
   "version": "3.7.6"
  }
 },
 "nbformat": 4,
 "nbformat_minor": 4
}
